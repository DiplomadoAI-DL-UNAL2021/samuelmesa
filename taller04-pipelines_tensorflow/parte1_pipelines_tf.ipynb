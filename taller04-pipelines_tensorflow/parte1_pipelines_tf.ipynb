{
 "cells": [
  {
   "cell_type": "markdown",
   "id": "75fb54a0",
   "metadata": {
    "cell_marker": "\"\"\"",
    "lines_to_next_cell": 0
   },
   "source": [
    "# Taller tuberias en Tensor Flow - Parte 1\n",
    "### Autor: Samuel Mesa\n",
    "### Fecha: 1 de mayo de 2021\n",
    "\n",
    "**Objetivo**: Un cuaderno, escrito de sus manos, repitiendo y si desean modificando el primer cuaderno."
   ]
  },
  {
   "cell_type": "markdown",
   "id": "ff434342",
   "metadata": {
    "lines_to_next_cell": 0
   },
   "source": [
    "Importar las librerías para la lectura de datos, gráficas y para definir el modelo de los datos"
   ]
  },
  {
   "cell_type": "code",
   "execution_count": 7,
   "id": "364a2450",
   "metadata": {},
   "outputs": [],
   "source": [
    "import tensorflow as tf\n",
    "import numpy as np\n",
    "import matplotlib.pyplot as plt"
   ]
  },
  {
   "cell_type": "markdown",
   "id": "f3fa8374",
   "metadata": {
    "lines_to_next_cell": 0
   },
   "source": [
    "## Introducción a tensores\n",
    "A continuación se realiza como se crean tensores"
   ]
  },
  {
   "cell_type": "markdown",
   "id": "08b3f855",
   "metadata": {
    "lines_to_next_cell": 0
   },
   "source": [
    "### Declaración de una constante y su visualización"
   ]
  },
  {
   "cell_type": "code",
   "execution_count": 8,
   "id": "70e77fba",
   "metadata": {
    "lines_to_next_cell": 0
   },
   "outputs": [
    {
     "name": "stdout",
     "output_type": "stream",
     "text": [
      "tf.Tensor(4, shape=(), dtype=int32)\n",
      "tf.Tensor([1 3 4], shape=(3,), dtype=int32)\n",
      "tf.Tensor(\n",
      "[[1 2 3]\n",
      " [4 5 6]], shape=(2, 3), dtype=int32)\n"
     ]
    }
   ],
   "source": [
    "t0 = tf.constant(4)\n",
    "print(t0)\n",
    "\n",
    "t1 = tf.constant([1, 3, 4])\n",
    "print(t1)\n",
    "\n",
    "t23 = tf.constant([[1, 2, 3],[4, 5, 6]])\n",
    "print(t23)"
   ]
  },
  {
   "cell_type": "markdown",
   "id": "bcb6db13",
   "metadata": {
    "cell_marker": "\"\"\"",
    "lines_to_next_cell": 0
   },
   "source": [
    "#### Declaración de constantes a partir de una matriz"
   ]
  },
  {
   "cell_type": "code",
   "execution_count": 9,
   "id": "94738177",
   "metadata": {
    "lines_to_next_cell": 0
   },
   "outputs": [
    {
     "name": "stdout",
     "output_type": "stream",
     "text": [
      "tf.Tensor(\n",
      "[[[ 1  2  3  4  5]\n",
      "  [ 6  7  8  9 10]\n",
      "  [11 12 13 14 15]]\n",
      "\n",
      " [[16 17 18 19 20]\n",
      "  [21 22 23 24 25]\n",
      "  [26 27 28 29 30]]], shape=(2, 3, 5), dtype=int32)\n"
     ]
    }
   ],
   "source": [
    "t235 = tf.constant([[[1,2,3,4,5],[6,7,8,9,10],[11,12,13,14,15]],\n",
    "                    [[16,17,18,19,20],[21,22,23,24,25],[26,27,28,29,30]]])\n",
    "print(t235)"
   ]
  },
  {
   "cell_type": "markdown",
   "id": "ab24ae90",
   "metadata": {
    "cell_marker": "\"\"\"",
    "lines_to_next_cell": 0
   },
   "source": [
    "#### Se  utiliza numpy "
   ]
  },
  {
   "cell_type": "code",
   "execution_count": 10,
   "id": "06d001df",
   "metadata": {
    "lines_to_next_cell": 0
   },
   "outputs": [
    {
     "name": "stdout",
     "output_type": "stream",
     "text": [
      "[[[ 1  2  3  4  5]\n",
      "  [ 6  7  8  9 10]\n",
      "  [11 12 13 14 15]]\n",
      "\n",
      " [[16 17 18 19 20]\n",
      "  [21 22 23 24 25]\n",
      "  [26 27 28 29 30]]]\n",
      "(2, 3, 5)\n"
     ]
    }
   ],
   "source": [
    "print(t235.numpy())\n",
    "print(t235.numpy().shape)"
   ]
  },
  {
   "cell_type": "markdown",
   "id": "2b6759eb",
   "metadata": {
    "cell_marker": "\"\"\"",
    "lines_to_next_cell": 0
   },
   "source": [
    "#### Algebra mínima de tensores."
   ]
  },
  {
   "cell_type": "code",
   "execution_count": 11,
   "id": "bd695eb5",
   "metadata": {},
   "outputs": [
    {
     "name": "stdout",
     "output_type": "stream",
     "text": [
      "tf.Tensor(\n",
      "[[1 2]\n",
      " [3 4]], shape=(2, 2), dtype=int32) \n",
      "\n",
      "tf.Tensor(\n",
      "[[5 6]\n",
      " [7 8]], shape=(2, 2), dtype=int32) \n",
      "\n",
      "Suma de tensores a+b:  \n",
      " tf.Tensor(\n",
      "[[ 6  8]\n",
      " [10 12]], shape=(2, 2), dtype=int32) \n",
      "\n",
      "Multiplicación de tensores a*b:  \n",
      " tf.Tensor(\n",
      "[[ 5 12]\n",
      " [21 32]], shape=(2, 2), dtype=int32) \n",
      "\n",
      "tf.Tensor(\n",
      "[[19 22]\n",
      " [43 50]], shape=(2, 2), dtype=int32) \n",
      "\n"
     ]
    }
   ],
   "source": [
    "a = tf.constant([[1,2],[3,4]])\n",
    "b = tf.constant([[5,6],[7,8]])\n",
    "\n",
    "print(a,\"\\n\")\n",
    "print(b,\"\\n\")\n",
    "print(\"Suma de tensores a+b:  \\n\",tf.add(a,b),\"\\n\")\n",
    "print(\"Multiplicación de tensores a*b:  \\n\",tf.multiply(a,b),\"\\n\")\n",
    "print(tf.matmul(a,b),\"\\n\")"
   ]
  },
  {
   "cell_type": "markdown",
   "id": "e5249bd1",
   "metadata": {
    "cell_marker": "\"\"\"",
    "lines_to_next_cell": 0
   },
   "source": [
    "#### Otras forma de realizar operaciones aritméticas con los tensores "
   ]
  },
  {
   "cell_type": "code",
   "execution_count": 12,
   "id": "4964bc31",
   "metadata": {},
   "outputs": [
    {
     "name": "stdout",
     "output_type": "stream",
     "text": [
      "Suma de tensores a+b:  \n",
      " tf.Tensor(\n",
      "[[ 6  8]\n",
      " [10 12]], shape=(2, 2), dtype=int32) \n",
      "\n",
      "Multiplicación de tensores a*b:  \n",
      " tf.Tensor(\n",
      "[[ 5 12]\n",
      " [21 32]], shape=(2, 2), dtype=int32) \n",
      "\n",
      "tf.Tensor(\n",
      "[[19 22]\n",
      " [43 50]], shape=(2, 2), dtype=int32) \n",
      "\n"
     ]
    }
   ],
   "source": [
    "print(\"Suma de tensores a+b:  \\n\",a+b,\"\\n\")\n",
    "print(\"Multiplicación de tensores a*b:  \\n\", a*b, \"\\n\")\n",
    "print(a@b, \"\\n\")"
   ]
  },
  {
   "cell_type": "markdown",
   "id": "5817f8a0",
   "metadata": {
    "cell_marker": "\"\"\"",
    "lines_to_next_cell": 0
   },
   "source": [
    "#### Funcion de reducción"
   ]
  },
  {
   "cell_type": "code",
   "execution_count": 13,
   "id": "8aab8a69",
   "metadata": {
    "lines_to_next_cell": 0
   },
   "outputs": [
    {
     "name": "stdout",
     "output_type": "stream",
     "text": [
      "tf.Tensor(\n",
      "[[ 4.  5.]\n",
      " [10.  1.]], shape=(2, 2), dtype=float32) \n",
      "\n",
      "Máximo elemento:  tf.Tensor(10.0, shape=(), dtype=float32) \n",
      "\n",
      "Mínimo elemento:  tf.Tensor(1.0, shape=(), dtype=float32) \n",
      "\n",
      "Media del tensor:   tf.Tensor(5.0, shape=(), dtype=float32) \n",
      "\n",
      "Retorna la posición en el tensor del elemento mas grande:  tf.Tensor([1 0], shape=(2,), dtype=int64) \n",
      "\n",
      "Uso de función de reducción:  tf.Tensor(\n",
      "[[2.6894143e-01 7.3105860e-01]\n",
      " [9.9987662e-01 1.2339458e-04]], shape=(2, 2), dtype=float32) \n",
      "\n",
      "tf.Tensor([1. 1.], shape=(2,), dtype=float32) \n",
      "\n"
     ]
    }
   ],
   "source": [
    "c = tf.constant([[4.0, 5.0],[10.0,1.0]])\n",
    "\n",
    "print(c,\"\\n\")\n",
    "print(\"Máximo elemento: \",tf.reduce_max(c),\"\\n\")\n",
    "print(\"Mínimo elemento: \",tf.reduce_min(c),\"\\n\")\n",
    "print(\"Media del tensor:  \",tf.reduce_mean(c),\"\\n\")\n",
    "print(\"Retorna la posición en el tensor del elemento mas grande: \",tf.argmax(c),\"\\n\")\n",
    "print(\"Uso de función de reducción: \",tf.nn.softmax(c),\"\\n\")\n",
    "print(tf.reduce_sum(tf.nn.softmax(c),axis=1),\"\\n\")"
   ]
  },
  {
   "cell_type": "markdown",
   "id": "0df704c6",
   "metadata": {
    "cell_marker": "\"\"\"",
    "lines_to_next_cell": 0
   },
   "source": [
    "### Tipo, forma y dimensión"
   ]
  },
  {
   "cell_type": "code",
   "execution_count": 14,
   "id": "b1586375",
   "metadata": {},
   "outputs": [
    {
     "name": "stdout",
     "output_type": "stream",
     "text": [
      "Tipo de tensor: \n",
      " <dtype: 'int32'> \n",
      "\n",
      "Descripciones del tensor: \n",
      " (3, 2, 5) \n",
      "\n",
      "Dimensiones del tensor: \n",
      " 3 \n",
      "\n",
      "Descripción t.shape[2]: \n",
      " 5 \n",
      "\n",
      "Tamano del tensor: \n",
      " tf.Tensor(30, shape=(), dtype=int32) \n",
      "\n"
     ]
    }
   ],
   "source": [
    "t = tf.constant([\n",
    "  [[0, 1, 2, 3, 4],\n",
    "   [5, 6, 7, 8, 9]],\n",
    "  [[10, 11, 12, 13, 14],\n",
    "   [15, 16, 17, 18, 19]],\n",
    "  [[20, 21, 22, 23, 24],\n",
    "   [25, 26, 27, 28, 29]],])\n",
    "print(\"Tipo de tensor: \\n\",t.dtype,\"\\n\")\n",
    "print(\"Descripciones del tensor: \\n\",t.shape,\"\\n\")\n",
    "print(\"Dimensiones del tensor: \\n\",t.ndim,\"\\n\")\n",
    "print(\"Descripción t.shape[2]: \\n\",t.shape[2],\"\\n\")\n",
    "print(\"Tamano del tensor: \\n\",tf.size(t.numpy()),\"\\n\")"
   ]
  },
  {
   "cell_type": "markdown",
   "id": "0a2f80df",
   "metadata": {
    "cell_marker": "\"\"\"",
    "lines_to_next_cell": 0
   },
   "source": [
    "### Indexación\n",
    "Indexación en un solo eje\n",
    "Los índices empiezan en cero.\n",
    "Los índices negativos cuentan hacia atrás desde el final.\n",
    "Los dos puntos (:) se utilizan para los cortes. inicio:final:salto"
   ]
  },
  {
   "cell_type": "code",
   "execution_count": 16,
   "id": "927d9d07",
   "metadata": {},
   "outputs": [
    {
     "name": "stdout",
     "output_type": "stream",
     "text": [
      "Primero:  tf.Tensor(0, shape=(), dtype=int32)\n",
      "Segundo:  tf.Tensor(1, shape=(), dtype=int32)\n",
      "Ultimo:  34\n"
     ]
    }
   ],
   "source": [
    "t1 =  tf.constant([0, 1, 1, 2, 3, 5, 8, 13, 21, 34])\n",
    "print(\"Primero: \", t1[0])\n",
    "print(\"Segundo: \", t1[1])\n",
    "print(\"Ultimo: \", t1[-1].numpy())"
   ]
  },
  {
   "cell_type": "markdown",
   "id": "fbc8e437",
   "metadata": {
    "cell_marker": "\"\"\"",
    "lines_to_next_cell": 0
   },
   "source": [
    "## Extracción de parte de un tensor: slices¶"
   ]
  },
  {
   "cell_type": "code",
   "execution_count": 17,
   "id": "cb8eed29",
   "metadata": {},
   "outputs": [
    {
     "name": "stdout",
     "output_type": "stream",
     "text": [
      "Todo [ 0  1  1  2  3  5  8 13 21 34]\n",
      "Antes la posición 4  [0 1 1 2]\n",
      "Desde la posición 4 hasta el final [ 3  5  8 13 21 34]\n",
      "Desde la posición 2 hasta anterior a 7 [3 5 8]\n",
      "Todos los elementos en posición par  [ 0  1  3  8 21]\n",
      "Invertido todo el orden [34 21 13  8  5  3  2  1  1  0]\n"
     ]
    }
   ],
   "source": [
    "print('Todo', t1[:].numpy())\n",
    "print('Antes la posición 4 ', t1[:4].numpy())\n",
    "print('Desde la posición 4 hasta el final', t1[4:].numpy())\n",
    "print('Desde la posición 2 hasta anterior a 7', t1[4:7].numpy())\n",
    "print('Todos los elementos en posición par ', t1[::2].numpy())\n",
    "print('Invertido todo el orden', t1[::-1].numpy())"
   ]
  },
  {
   "cell_type": "markdown",
   "id": "c414e6b1",
   "metadata": {
    "cell_marker": "\"\"\"",
    "lines_to_next_cell": 0
   },
   "source": [
    "### Indexación multi-eje"
   ]
  },
  {
   "cell_type": "code",
   "execution_count": 19,
   "id": "bd7fe943",
   "metadata": {},
   "outputs": [
    {
     "name": "stdout",
     "output_type": "stream",
     "text": [
      "[[1 2 3]\n",
      " [4 5 6]]\n",
      "Posición 1,1 =  5\n",
      "Segunda fila:  [4 5 6]\n",
      "Segunda columna:  [2 5]\n",
      "Última columna:  [3 6]\n",
      "Primer elemento de la última columna:  3\n",
      "Saltarse la primera columna: \n",
      " [[2 3]\n",
      " [5 6]]\n"
     ]
    }
   ],
   "source": [
    "t23 = tf.constant([[1, 2, 3],[4, 5, 6]])\n",
    "print(t23.numpy())\n",
    "\n",
    "# Algunas indexaciones \n",
    "print('Posición 1,1 = ',t23[1,1].numpy())\n",
    "print('Segunda fila: ', t23[1,:].numpy())\n",
    "print('Segunda columna: ', t23[:,1].numpy())\n",
    "print('Última columna: ', t23[:,-1].numpy())\n",
    "print('Primer elemento de la última columna: ', t23[0,-1].numpy())\n",
    "print('Saltarse la primera columna: \\n', t23[:,1:].numpy()) "
   ]
  },
  {
   "cell_type": "markdown",
   "id": "585a51da",
   "metadata": {
    "cell_marker": "\"\"\"",
    "lines_to_next_cell": 0
   },
   "source": [
    "### Ejemplo de cubo de un tensor"
   ]
  },
  {
   "cell_type": "code",
   "execution_count": 20,
   "id": "da83b179",
   "metadata": {},
   "outputs": [
    {
     "name": "stdout",
     "output_type": "stream",
     "text": [
      "[[[ 0  1  2  3  4]\n",
      "  [ 5  6  7  8  9]]\n",
      "\n",
      " [[10 11 12 13 14]\n",
      "  [15 16 17 18 19]]\n",
      "\n",
      " [[20 21 22 23 24]\n",
      "  [25 26 27 28 29]]]\n"
     ]
    }
   ],
   "source": [
    "t = tf.constant([\n",
    "  [[0, 1, 2, 3, 4],\n",
    "   [5, 6, 7, 8, 9]],\n",
    "  [[10, 11, 12, 13, 14],\n",
    "   [15, 16, 17, 18, 19]],\n",
    "  [[20, 21, 22, 23, 24],\n",
    "   [25, 26, 27, 28, 29]],]) \n",
    "print(t.numpy())"
   ]
  },
  {
   "cell_type": "markdown",
   "id": "e4af50db-f93b-4490-8aa8-7c081c177b27",
   "metadata": {},
   "source": [
    "### Extracciones de info del tensor"
   ]
  },
  {
   "cell_type": "code",
   "execution_count": 21,
   "id": "97735ccc-cf2b-4160-a5bf-4b04937c17cb",
   "metadata": {},
   "outputs": [
    {
     "name": "stdout",
     "output_type": "stream",
     "text": [
      "Extrae la primera capa\n",
      " tf.Tensor(\n",
      "[[0 1 2 3 4]\n",
      " [5 6 7 8 9]], shape=(2, 5), dtype=int32)\n",
      "Extrae la segunda capa\n",
      " tf.Tensor(\n",
      "[[10 11 12 13 14]\n",
      " [15 16 17 18 19]], shape=(2, 5), dtype=int32)\n"
     ]
    }
   ],
   "source": [
    "print('Extrae la primera capa\\n', t[0,:,:])\n",
    "print('Extrae la segunda capa\\n', t[1])"
   ]
  },
  {
   "cell_type": "markdown",
   "id": "1a19ed29",
   "metadata": {
    "cell_marker": "\"\"\"",
    "lines_to_next_cell": 0
   },
   "source": [
    "### Manipular formas y remodelando el tensor"
   ]
  },
  {
   "cell_type": "code",
   "execution_count": 22,
   "id": "431c8767",
   "metadata": {},
   "outputs": [
    {
     "name": "stdout",
     "output_type": "stream",
     "text": [
      "(4, 1)\n",
      "[4, 1]\n",
      "Remodelando el tensor \n",
      "\n",
      "[[1 2]\n",
      " [3 4]]\n",
      "[[1]\n",
      " [2]\n",
      " [3]\n",
      " [4]]\n"
     ]
    }
   ],
   "source": [
    "x = tf.constant([[1],[2],[3],[4]])\n",
    "print(x.shape)\n",
    "print(x.shape.as_list())\n",
    "print(\"Remodelando el tensor \\n\")\n",
    "reshaped = tf.reshape(x,[2,2])\n",
    "print(reshaped.numpy())\n",
    "print(x.numpy())"
   ]
  },
  {
   "cell_type": "markdown",
   "id": "1088b74d",
   "metadata": {
    "cell_marker": "\"\"\"",
    "lines_to_next_cell": 0
   },
   "source": [
    "### Aplanar un tensor"
   ]
  },
  {
   "cell_type": "code",
   "execution_count": 23,
   "id": "4f65b88e",
   "metadata": {},
   "outputs": [
    {
     "name": "stdout",
     "output_type": "stream",
     "text": [
      "t actual: \n",
      " [[[ 0  1  2  3  4]\n",
      "  [ 5  6  7  8  9]]\n",
      "\n",
      " [[10 11 12 13 14]\n",
      "  [15 16 17 18 19]]\n",
      "\n",
      " [[20 21 22 23 24]\n",
      "  [25 26 27 28 29]]]\n",
      "\n",
      " t aplanado: \n",
      " [ 0  1  2  3  4  5  6  7  8  9 10 11 12 13 14 15 16 17 18 19 20 21 22 23\n",
      " 24 25 26 27 28 29]\n"
     ]
    }
   ],
   "source": [
    "print(\"t actual: \\n\", t.numpy())\n",
    "flat = tf.reshape(t, [-1])\n",
    "print(\"\\n t aplanado: \\n\", flat.numpy())"
   ]
  },
  {
   "cell_type": "markdown",
   "id": "b889af0a",
   "metadata": {
    "cell_marker": "\"\"\"",
    "lines_to_next_cell": 0
   },
   "source": [
    "### Mirar un tensor como una lista"
   ]
  },
  {
   "cell_type": "code",
   "execution_count": 24,
   "id": "3f432eb0",
   "metadata": {},
   "outputs": [
    {
     "name": "stdout",
     "output_type": "stream",
     "text": [
      "[3, 2, 5]\n",
      "tf.reshape(t, [2*3,5]).....:\n",
      "\n",
      "tf.Tensor(\n",
      "[[ 0  1  2  3  4]\n",
      " [ 5  6  7  8  9]\n",
      " [10 11 12 13 14]\n",
      " [15 16 17 18 19]\n",
      " [20 21 22 23 24]\n",
      " [25 26 27 28 29]], shape=(6, 5), dtype=int32)\n",
      "tf.reshape(t, [2,3*5]).....:\n",
      "\n",
      "tf.Tensor(\n",
      "[[ 0  1  2  3  4  5  6  7  8  9 10 11 12 13 14]\n",
      " [15 16 17 18 19 20 21 22 23 24 25 26 27 28 29]], shape=(2, 15), dtype=int32)\n"
     ]
    }
   ],
   "source": [
    "print(t.shape.as_list())\n",
    "print(\"tf.reshape(t, [2*3,5]).....:\\n\")\n",
    "print(tf.reshape(t, [2*3,5]))\n",
    "print(\"tf.reshape(t, [2,3*5]).....:\\n\")\n",
    "print(tf.reshape(t, [2,3*5]))"
   ]
  },
  {
   "cell_type": "markdown",
   "id": "dc03e768",
   "metadata": {
    "cell_marker": "\"\"\"",
    "lines_to_next_cell": 0
   },
   "source": [
    "### Otras impresiones con reshape"
   ]
  },
  {
   "cell_type": "code",
   "execution_count": 25,
   "id": "c2450f82",
   "metadata": {},
   "outputs": [
    {
     "name": "stdout",
     "output_type": "stream",
     "text": [
      "Tensor original::  [3, 2, 5]\n",
      "tf.Tensor(\n",
      "[[ 0  1  2  3  4]\n",
      " [ 5  6  7  8  9]\n",
      " [10 11 12 13 14]\n",
      " [15 16 17 18 19]\n",
      " [20 21 22 23 24]\n",
      " [25 26 27 28 29]], shape=(6, 5), dtype=int32)\n",
      "tf.Tensor(\n",
      "[[ 0  1  2  3  4  5  6  7  8  9]\n",
      " [10 11 12 13 14 15 16 17 18 19]\n",
      " [20 21 22 23 24 25 26 27 28 29]], shape=(3, 10), dtype=int32)\n",
      "tf.Tensor(\n",
      "[[[ 0  1  2  3  4]\n",
      "  [ 5  6  7  8  9]]\n",
      "\n",
      " [[10 11 12 13 14]\n",
      "  [15 16 17 18 19]]\n",
      "\n",
      " [[20 21 22 23 24]\n",
      "  [25 26 27 28 29]]], shape=(3, 2, 5), dtype=int32)\n"
     ]
    }
   ],
   "source": [
    "print(\"Tensor original:: \",t.shape.as_list())\n",
    "print(tf.reshape(t, [-1,5]))\n",
    "print(tf.reshape(t, [3,-1]))\n",
    "print(tf.reshape(t, [3,2,5])) #Es el mismo original"
   ]
  },
  {
   "cell_type": "markdown",
   "id": "b0a2f99a",
   "metadata": {
    "cell_marker": "\"\"\"",
    "lines_to_next_cell": 0
   },
   "source": [
    "### Definición Conversión de tipos. Cast"
   ]
  },
  {
   "cell_type": "code",
   "execution_count": 26,
   "id": "7ad8a5be",
   "metadata": {},
   "outputs": [
    {
     "name": "stdout",
     "output_type": "stream",
     "text": [
      "tf.Tensor([2. 4. 6.], shape=(3,), dtype=float64)\n",
      "tf.Tensor([2. 4. 6.], shape=(3,), dtype=float16)\n",
      "tf.Tensor([2 4 6], shape=(3,), dtype=uint8)\n"
     ]
    }
   ],
   "source": [
    "f64_tensor = tf.constant([2.0, 4.0, 6.0], dtype = tf.float64)\n",
    "print(f64_tensor)\n",
    "\n",
    "f16_tensor = tf.cast(f64_tensor,dtype= tf.float16)\n",
    "print(f16_tensor)\n",
    "\n",
    "u8_tensor = tf.cast(f16_tensor, dtype = tf.uint8)\n",
    "print(u8_tensor)"
   ]
  },
  {
   "cell_type": "markdown",
   "id": "771106ca",
   "metadata": {
    "cell_marker": "\"\"\"",
    "lines_to_next_cell": 0
   },
   "source": [
    "### Radiofusión (broadcasting)\n",
    "La radiodifusión es un concepto tomado de la función equivalente en NumPy . En resumen, bajo ciertas condiciones, los tensores más pequeños se \"estiran\" \n",
    "automáticamente para adaptarse a tensores más grandes cuando se ejecutan operaciones combinadas en ellos.\n",
    "\n",
    "El caso más simple y común es cuando intenta multiplicar o agregar un tensor a un escalar. En ese caso, el escalar se transmite para que tenga la misma forma que el otro argumento."
   ]
  },
  {
   "cell_type": "code",
   "execution_count": 27,
   "id": "45450b78",
   "metadata": {},
   "outputs": [
    {
     "name": "stdout",
     "output_type": "stream",
     "text": [
      "tf.Tensor([2 4 6], shape=(3,), dtype=int32)\n",
      "tf.Tensor([2 4 6], shape=(3,), dtype=int32)\n",
      "tf.Tensor([2 4 6], shape=(3,), dtype=int32)\n"
     ]
    }
   ],
   "source": [
    "x = tf.constant([1, 2 ,3])\n",
    "y = tf.constant(2)\n",
    "z = tf.constant([2, 2 ,2])\n",
    "\n",
    "# el mismo resultado\n",
    "print(tf.multiply(x,2))\n",
    "print(x*y)\n",
    "print(x*z)"
   ]
  },
  {
   "cell_type": "markdown",
   "id": "d1ea6e8e",
   "metadata": {
    "cell_marker": "\"\"\"",
    "lines_to_next_cell": 0
   },
   "source": [
    "### Remodelado"
   ]
  },
  {
   "cell_type": "code",
   "execution_count": 28,
   "id": "d34c86a5",
   "metadata": {},
   "outputs": [
    {
     "name": "stdout",
     "output_type": "stream",
     "text": [
      "Tensor X:  tf.Tensor(\n",
      "[[1]\n",
      " [2]\n",
      " [3]], shape=(3, 1), dtype=int32) \n",
      "\n",
      "Tensor Y:  tf.Tensor([1 2 3 4], shape=(4,), dtype=int32) \n",
      "\n"
     ]
    }
   ],
   "source": [
    "x = tf.reshape(x, [3,1])\n",
    "y = tf.range(1,5)\n",
    "print(\"Tensor X: \",x, \"\\n\")\n",
    "print(\"Tensor Y: \",y, \"\\n\")"
   ]
  },
  {
   "cell_type": "markdown",
   "id": "8d0ef3ca-c034-48db-af8d-d0f3455d7a27",
   "metadata": {
    "lines_to_next_cell": 0
   },
   "source": [
    "### Multiplicación\n",
    "Del mismo modo, los ejes con longitud 1 se pueden estirar para que coincidan con los otros argumentos. \n",
    "Ambos argumentos se pueden estirar en el mismo cálculo.\n",
    "\n",
    "En este caso, una matriz de 3x1 se multiplica por elementos por una matriz de 1x4 para producir \n",
    "una matriz de 3x4. Observe que el 1 inicial es opcional: la forma de y es [4]. En matemáticas \n",
    "esta multiplicación se conoce como producto externo."
   ]
  },
  {
   "cell_type": "code",
   "execution_count": 29,
   "id": "7628ed43",
   "metadata": {},
   "outputs": [
    {
     "name": "stdout",
     "output_type": "stream",
     "text": [
      "tf.Tensor(\n",
      "[[ 1  2  3  4]\n",
      " [ 2  4  6  8]\n",
      " [ 3  6  9 12]], shape=(3, 4), dtype=int32)\n"
     ]
    }
   ],
   "source": [
    "print(tf.multiply(x,y))"
   ]
  },
  {
   "cell_type": "markdown",
   "id": "cb258ed4",
   "metadata": {
    "cell_marker": "\"\"\"",
    "lines_to_next_cell": 0
   },
   "source": [
    "### tf.broadcast_to"
   ]
  },
  {
   "cell_type": "code",
   "execution_count": 30,
   "id": "f585ddf1",
   "metadata": {},
   "outputs": [
    {
     "name": "stdout",
     "output_type": "stream",
     "text": [
      "tf.Tensor(\n",
      "[[1 2 3]\n",
      " [1 2 3]\n",
      " [1 2 3]], shape=(3, 3), dtype=int32)\n"
     ]
    }
   ],
   "source": [
    "print(tf.broadcast_to([1,2,3], [3,3]))"
   ]
  },
  {
   "cell_type": "markdown",
   "id": "193802e2",
   "metadata": {
    "cell_marker": "\"\"\"",
    "lines_to_next_cell": 0
   },
   "source": [
    "### tf.convert_to_tensor\n",
    "La mayoría de las operaciones, como tf.matmul y tf.reshape toman argumentos de la clase tf.Tensor. \n",
    "Sin embargo, notará que en el caso anterior, se aceptan objetos de Python con forma de tensores.\n",
    "\n",
    "La mayoría, pero no todas, las operaciones llaman a tf.convert_to_tensor con argumentos no tensoriales. \n",
    "Existe un registro de conversiones, y la mayoría de las clases de objetos como ndarray , TensorShape ,\n",
    "de Python, y tf.Variable se convertirán todas automáticamente."
   ]
  },
  {
   "cell_type": "markdown",
   "id": "450d9516",
   "metadata": {
    "cell_marker": "\"\"\"",
    "lines_to_next_cell": 0
   },
   "source": [
    "### Tensores irregulares (ragged tensors) \n",
    "Un tensor con números variables de elementos a lo largo de algún eje se llama \"irregular\".\n",
    " Utilice tf.ragged.RaggedTensor para datos irregulares.\n",
    "\n",
    "Por ejemplo, esto no se puede representar como un tensor regular:"
   ]
  },
  {
   "cell_type": "code",
   "execution_count": 32,
   "id": "63533cae",
   "metadata": {
    "lines_to_next_cell": 2
   },
   "outputs": [
    {
     "name": "stdout",
     "output_type": "stream",
     "text": [
      "ValueError: Can't convert non-rectangular Python sequence to Tensor.\n",
      "(4, None)\n"
     ]
    }
   ],
   "source": [
    "ragged_list = [\n",
    "    [0, 1, 2, 3],\n",
    "    [4, 5],\n",
    "    [6, 7, 8],\n",
    "    [9]]\n",
    "\n",
    "try:\n",
    "    tensor = tf.constant(ragged_list)\n",
    "except Exception as e:\n",
    "     print(f\"{type(e).__name__}: {e}\")\n",
    "     \n",
    "# En su lugar, cree un tf.RaggedTensor usando tf.ragged.constant :\n",
    "ragged_t = tf.ragged.constant(ragged_list)\n",
    "print(ragged_t.shape)"
   ]
  },
  {
   "cell_type": "markdown",
   "id": "63686c95",
   "metadata": {
    "cell_marker": "\"\"\"",
    "lines_to_next_cell": 0
   },
   "source": [
    "Tensores de strings"
   ]
  },
  {
   "cell_type": "code",
   "execution_count": 36,
   "id": "c0b9e6cb",
   "metadata": {},
   "outputs": [
    {
     "name": "stdout",
     "output_type": "stream",
     "text": [
      "tf.Tensor(b'Este tensor string', shape=(), dtype=string)\n",
      "tf.Tensor([b'Este tensor string' b'Cadena 2' b'Cadena 3' b'Cadena 4'], shape=(4,), dtype=string)\n",
      "<tf.RaggedTensor [[b'Este', b'tensor', b'string'], [b'Cadena', b'2'], [b'Cadena', b'3'], [b'Cadena', b'4']]>\n"
     ]
    }
   ],
   "source": [
    "st = tf.constant(\"Este tensor string\")\n",
    "print(st)\n",
    "\n",
    "st = tf.constant([\"Este tensor string\",\n",
    "                 \"Cadena 2\",\n",
    "                 \"Cadena 3\",\n",
    "                 \"Cadena 4\"])\n",
    "print(st)\n",
    "print(tf.strings.split(st))"
   ]
  },
  {
   "cell_type": "markdown",
   "id": "2a98c69b",
   "metadata": {
    "cell_marker": "\"\"\"",
    "lines_to_next_cell": 0
   },
   "source": [
    "### string to number"
   ]
  },
  {
   "cell_type": "code",
   "execution_count": 37,
   "id": "9eb81837",
   "metadata": {},
   "outputs": [
    {
     "name": "stdout",
     "output_type": "stream",
     "text": [
      "tf.Tensor([ 1.  10.  10.4], shape=(3,), dtype=float32)\n"
     ]
    }
   ],
   "source": [
    "st = tf.constant(\"1 10 10.4\")\n",
    "print(tf.strings.to_number(tf.strings.split(st, \" \")))"
   ]
  },
  {
   "cell_type": "markdown",
   "id": "a7c96e3d",
   "metadata": {
    "cell_marker": "\"\"\"",
    "lines_to_next_cell": 0
   },
   "source": [
    "### Tensores dispersos. SparseTensor\n",
    "Se crea en tensor de 3 filas por 4 columnas [3,4], en la celda [0,1] esta el elemento 1\n",
    "en la celda [1,2] esta el elemento 2 \n",
    "en el ejemplo segundo:\n",
    "Se crea en tensor de 3 filas por 10 columnas [3,10], en la celda [0,3] esta el elemento 10\n",
    "en la celda [2,4] esta el elemento 20.     "
   ]
  },
  {
   "cell_type": "code",
   "execution_count": 38,
   "id": "1dd97eba",
   "metadata": {},
   "outputs": [
    {
     "name": "stdout",
     "output_type": "stream",
     "text": [
      "SparseTensor(indices=tf.Tensor(\n",
      "[[0 1]\n",
      " [1 2]], shape=(2, 2), dtype=int64), values=tf.Tensor([1 2], shape=(2,), dtype=int32), dense_shape=tf.Tensor([3 4], shape=(2,), dtype=int64))  Ejemplo 1\n",
      "\n",
      "tf.Tensor(\n",
      "[[0 1 0 0]\n",
      " [0 0 2 0]\n",
      " [0 0 0 0]], shape=(3, 4), dtype=int32)\n",
      "SparseTensor(indices=tf.Tensor(\n",
      "[[0 3]\n",
      " [2 4]], shape=(2, 2), dtype=int64), values=tf.Tensor([10 20], shape=(2,), dtype=int32), dense_shape=tf.Tensor([ 3 10], shape=(2,), dtype=int64))  Ejemplo 2\n",
      "\n",
      "tf.Tensor(\n",
      "[[ 0  0  0 10  0  0  0  0  0  0]\n",
      " [ 0  0  0  0  0  0  0  0  0  0]\n",
      " [ 0  0  0  0 20  0  0  0  0  0]], shape=(3, 10), dtype=int32)\n"
     ]
    }
   ],
   "source": [
    "#  tensor disperso Ejemplo 1\n",
    "sparse_tensor = tf.sparse.SparseTensor(indices = [[0,1], [1,2]],\n",
    "                                       values = [1,2],\n",
    "                                       dense_shape\n",
    "                                        =[3,4])\n",
    "print(sparse_tensor, \" Ejemplo 1\\n\")\n",
    "\n",
    "# convierte a tensor denso\n",
    "print(tf.sparse.to_dense(sparse_tensor))\n",
    "\n",
    "\n",
    "#  tensor disperso Ejemplo 2\n",
    "st1 = tf.SparseTensor(indices=[[0, 3], [2, 4]],\n",
    "                      values=[10, 20],\n",
    "                      dense_shape=[3, 10])\n",
    "\n",
    "print(st1, \" Ejemplo 2\\n\")\n",
    "\n",
    "# convierte a tensor denso\n",
    "print(tf.sparse.to_dense(st1))"
   ]
  },
  {
   "cell_type": "markdown",
   "id": "5b3c7ff3",
   "metadata": {
    "cell_marker": "\"\"\""
   },
   "source": [
    "## Conclusiones\n",
    "\n",
    "Se realiza la revisión de las operaciones y a relación entre tensores y matrices de NumPy"
   ]
  }
 ],
 "metadata": {
  "jupytext": {
   "encoding": "# -*- coding: utf-8 -*-",
   "formats": "ipynb,py:hydrogen,md"
  },
  "kernelspec": {
   "display_name": "geoenv",
   "language": "python",
   "name": "geoenv"
  },
  "language_info": {
   "codemirror_mode": {
    "name": "ipython",
    "version": 3
   },
   "file_extension": ".py",
   "mimetype": "text/x-python",
   "name": "python",
   "nbconvert_exporter": "python",
   "pygments_lexer": "ipython3",
   "version": "3.8.8"
  }
 },
 "nbformat": 4,
 "nbformat_minor": 5
}
