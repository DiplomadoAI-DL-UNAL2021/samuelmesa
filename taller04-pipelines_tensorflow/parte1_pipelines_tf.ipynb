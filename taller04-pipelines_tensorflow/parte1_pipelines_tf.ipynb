{
 "metadata": {
  "language_info": {
   "codemirror_mode": {
    "name": "ipython",
    "version": 3
   },
   "file_extension": ".py",
   "mimetype": "text/x-python",
   "name": "python",
   "nbconvert_exporter": "python",
   "pygments_lexer": "ipython3",
   "version": 3
  },
  "orig_nbformat": 2
 },
 "nbformat": 4,
 "nbformat_minor": 2,
 "cells": [
  {
   "source": [
    "# Taller tuberias en Tensor Flow - Parte 1\n",
    "## Autor: Samuel Mesa\n",
    "## Fecha: 1 de mayo de 2021\n",
    "\n",
    "## Objetivo: Un cuaderno, escrito de sus manos, repitiendo y si desean modificando el primer cuaderno."
   ],
   "cell_type": "markdown",
   "metadata": {}
  }
 ]
}