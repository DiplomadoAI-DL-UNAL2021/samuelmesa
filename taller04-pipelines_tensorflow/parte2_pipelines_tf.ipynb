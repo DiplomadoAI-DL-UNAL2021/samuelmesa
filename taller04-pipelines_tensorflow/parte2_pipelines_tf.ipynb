{
 "metadata": {
  "language_info": {
   "codemirror_mode": {
    "name": "ipython",
    "version": 3
   },
   "file_extension": ".py",
   "mimetype": "text/x-python",
   "name": "python",
   "nbconvert_exporter": "python",
   "pygments_lexer": "ipython3",
   "version": 3
  },
  "orig_nbformat": 2
 },
 "nbformat": 4,
 "nbformat_minor": 2,
 "cells": [
  {
   "source": [
    "# Taller tuberias en TensorFlow - Parte 2\n",
    "## Autor: Samuel Mesa\n",
    "## Fecha: 1 de mayo de 2021\n",
    "\n",
    "## Objetivo: Un cuaderno en donde ustedes harán el entubamiento de un conjunto de datos asociado a su proyecto. Para este, ustedes revisan el segundo cuaderno y completan detalles con los enlaces abajo. El entregable es preferiblemente el entubamiento que usted usa o usará en su proyecto."
   ],
   "cell_type": "markdown",
   "metadata": {}
  }
 ]
}