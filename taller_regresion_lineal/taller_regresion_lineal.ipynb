{
  "nbformat": 4,
  "nbformat_minor": 0,
  "metadata": {
    "colab": {
      "name": "taller_regresion_lineal.ipynb",
      "provenance": []
    },
    "kernelspec": {
      "name": "python3",
      "display_name": "Python 3"
    },
    "language_info": {
      "name": "python"
    }
  },
  "cells": [
    {
      "cell_type": "markdown",
      "metadata": {
        "id": "_ImNextglJ6g"
      },
      "source": [
        "# Taller de regresión lineal"
      ]
    },
    {
      "cell_type": "markdown",
      "metadata": {
        "id": "FkEmGBQOl6td"
      },
      "source": [
        "## Descripción de los datos\n",
        "\n",
        "\n",
        "Cargue la capa barrenos corresponde a una capa de muestras tomadas en terreno y en la cual trae información de ubicación, descripción, litología (GEOL), descripción (DESCRIPTIO), espesor en metros de la capas enterradas (Thickness), porcentaje de arcillas (PERCLAY) y permeabilidad metros/dia (PERMEABILI)."
      ]
    },
    {
      "cell_type": "code",
      "metadata": {
        "id": "DOkinIHvlGWF"
      },
      "source": [
        "## Importar librerias y módulos\n",
        "\n",
        "import numpy as np\n",
        "import pandas as pd\n",
        "import seaborn as sb\n",
        "import matplotlib.pyplot as plt\n",
        "%matplotlib inline\n",
        "from mpl_toolkits.mplot3d import Axes3D\n",
        "from matplotlib import cm\n",
        "plt.rcParams['figure.figsize'] = (128, 54)\n",
        "plt.style.use('ggplot')\n",
        "from sklearn import linear_model\n",
        "from sklearn.metrics import mean_squared_error, r2_score"
      ],
      "execution_count": 1,
      "outputs": []
    },
    {
      "cell_type": "code",
      "metadata": {
        "colab": {
          "base_uri": "https://localhost:8080/"
        },
        "id": "RD83FRyPmOPf",
        "outputId": "1ce4271b-84cb-470b-e15c-85d1904de3d9"
      },
      "source": [
        "# Importamos el archivo CSV\n",
        "\n",
        "#cargamos los datos de entrada\n",
        "barrenos = pd.read_csv(\"https://raw.githubusercontent.com/DiplomadoAI-DL-UNAL2021/samuelmesa/main/taller_regresion_lineal/barrenos.csv\")\n",
        "#veamos cuantas dimensiones y registros contiene\n",
        "barrenos.shape"
      ],
      "execution_count": 2,
      "outputs": [
        {
          "output_type": "execute_result",
          "data": {
            "text/plain": [
              "(203, 11)"
            ]
          },
          "metadata": {
            "tags": []
          },
          "execution_count": 2
        }
      ]
    },
    {
      "cell_type": "code",
      "metadata": {
        "colab": {
          "base_uri": "https://localhost:8080/",
          "height": 195
        },
        "id": "pSMPWWwcmoNx",
        "outputId": "f4597e3e-805b-4a65-9814-bb22b2356b8e"
      },
      "source": [
        "# Explorar los registros\n",
        "\n",
        "barrenos.head()"
      ],
      "execution_count": 3,
      "outputs": [
        {
          "output_type": "execute_result",
          "data": {
            "text/html": [
              "<div>\n",
              "<style scoped>\n",
              "    .dataframe tbody tr th:only-of-type {\n",
              "        vertical-align: middle;\n",
              "    }\n",
              "\n",
              "    .dataframe tbody tr th {\n",
              "        vertical-align: top;\n",
              "    }\n",
              "\n",
              "    .dataframe thead th {\n",
              "        text-align: right;\n",
              "    }\n",
              "</style>\n",
              "<table border=\"1\" class=\"dataframe\">\n",
              "  <thead>\n",
              "    <tr style=\"text-align: right;\">\n",
              "      <th></th>\n",
              "      <th>OBJECTID</th>\n",
              "      <th>BOREHOLE</th>\n",
              "      <th>X</th>\n",
              "      <th>Y</th>\n",
              "      <th>GEOL</th>\n",
              "      <th>longitud</th>\n",
              "      <th>latitud</th>\n",
              "      <th>DESCRIPTIO</th>\n",
              "      <th>THICKNESS</th>\n",
              "      <th>PERCCLAY</th>\n",
              "      <th>PERMEABILI</th>\n",
              "    </tr>\n",
              "  </thead>\n",
              "  <tbody>\n",
              "    <tr>\n",
              "      <th>0</th>\n",
              "      <td>1</td>\n",
              "      <td>Bhnr1</td>\n",
              "      <td>830557</td>\n",
              "      <td>1047819</td>\n",
              "      <td>kclp</td>\n",
              "      <td>-75.60529</td>\n",
              "      <td>5.026840</td>\n",
              "      <td>Chloritic/amfibolitic schists</td>\n",
              "      <td>8</td>\n",
              "      <td>60</td>\n",
              "      <td>0.0</td>\n",
              "    </tr>\n",
              "    <tr>\n",
              "      <th>1</th>\n",
              "      <td>2</td>\n",
              "      <td>Bhnr2</td>\n",
              "      <td>834314</td>\n",
              "      <td>1047725</td>\n",
              "      <td>inch</td>\n",
              "      <td>-75.57142</td>\n",
              "      <td>5.026069</td>\n",
              "      <td>Gneissic intrusive</td>\n",
              "      <td>4</td>\n",
              "      <td>20</td>\n",
              "      <td>0.9</td>\n",
              "    </tr>\n",
              "    <tr>\n",
              "      <th>2</th>\n",
              "      <td>3</td>\n",
              "      <td>Bhnr3</td>\n",
              "      <td>835665</td>\n",
              "      <td>1047825</td>\n",
              "      <td>kis</td>\n",
              "      <td>-75.55925</td>\n",
              "      <td>5.027000</td>\n",
              "      <td>Metasedimentary rock</td>\n",
              "      <td>7</td>\n",
              "      <td>45</td>\n",
              "      <td>0.0</td>\n",
              "    </tr>\n",
              "    <tr>\n",
              "      <th>3</th>\n",
              "      <td>4</td>\n",
              "      <td>Bhnr4</td>\n",
              "      <td>836846</td>\n",
              "      <td>1047706</td>\n",
              "      <td>kis</td>\n",
              "      <td>-75.54860</td>\n",
              "      <td>5.025949</td>\n",
              "      <td>Metasedimentary rock</td>\n",
              "      <td>5</td>\n",
              "      <td>45</td>\n",
              "      <td>0.0</td>\n",
              "    </tr>\n",
              "    <tr>\n",
              "      <th>4</th>\n",
              "      <td>5</td>\n",
              "      <td>Bhnr5</td>\n",
              "      <td>835888</td>\n",
              "      <td>1047913</td>\n",
              "      <td>qal</td>\n",
              "      <td>-75.55724</td>\n",
              "      <td>5.027801</td>\n",
              "      <td>Recent alluvial material</td>\n",
              "      <td>20</td>\n",
              "      <td>0</td>\n",
              "      <td>3.5</td>\n",
              "    </tr>\n",
              "  </tbody>\n",
              "</table>\n",
              "</div>"
            ],
            "text/plain": [
              "   OBJECTID BOREHOLE       X  ...  THICKNESS PERCCLAY  PERMEABILI\n",
              "0         1    Bhnr1  830557  ...          8       60         0.0\n",
              "1         2    Bhnr2  834314  ...          4       20         0.9\n",
              "2         3    Bhnr3  835665  ...          7       45         0.0\n",
              "3         4    Bhnr4  836846  ...          5       45         0.0\n",
              "4         5    Bhnr5  835888  ...         20        0         3.5\n",
              "\n",
              "[5 rows x 11 columns]"
            ]
          },
          "metadata": {
            "tags": []
          },
          "execution_count": 3
        }
      ]
    },
    {
      "cell_type": "code",
      "metadata": {
        "colab": {
          "base_uri": "https://localhost:8080/",
          "height": 284
        },
        "id": "eLA4eBehmqPl",
        "outputId": "ae3cef69-5b0d-4730-fd4e-96b2997b8512"
      },
      "source": [
        "# Despliegue de estadísticas de los datos de entrada\n",
        "\n",
        "barrenos.describe()"
      ],
      "execution_count": 4,
      "outputs": [
        {
          "output_type": "execute_result",
          "data": {
            "text/html": [
              "<div>\n",
              "<style scoped>\n",
              "    .dataframe tbody tr th:only-of-type {\n",
              "        vertical-align: middle;\n",
              "    }\n",
              "\n",
              "    .dataframe tbody tr th {\n",
              "        vertical-align: top;\n",
              "    }\n",
              "\n",
              "    .dataframe thead th {\n",
              "        text-align: right;\n",
              "    }\n",
              "</style>\n",
              "<table border=\"1\" class=\"dataframe\">\n",
              "  <thead>\n",
              "    <tr style=\"text-align: right;\">\n",
              "      <th></th>\n",
              "      <th>OBJECTID</th>\n",
              "      <th>X</th>\n",
              "      <th>Y</th>\n",
              "      <th>longitud</th>\n",
              "      <th>latitud</th>\n",
              "      <th>THICKNESS</th>\n",
              "      <th>PERCCLAY</th>\n",
              "      <th>PERMEABILI</th>\n",
              "    </tr>\n",
              "  </thead>\n",
              "  <tbody>\n",
              "    <tr>\n",
              "      <th>count</th>\n",
              "      <td>203.000000</td>\n",
              "      <td>203.000000</td>\n",
              "      <td>2.030000e+02</td>\n",
              "      <td>203.000000</td>\n",
              "      <td>203.000000</td>\n",
              "      <td>203.000000</td>\n",
              "      <td>203.000000</td>\n",
              "      <td>203.000000</td>\n",
              "    </tr>\n",
              "    <tr>\n",
              "      <th>mean</th>\n",
              "      <td>102.000000</td>\n",
              "      <td>833251.916256</td>\n",
              "      <td>1.044356e+06</td>\n",
              "      <td>-75.580929</td>\n",
              "      <td>4.995594</td>\n",
              "      <td>11.576355</td>\n",
              "      <td>35.320197</td>\n",
              "      <td>0.846798</td>\n",
              "    </tr>\n",
              "    <tr>\n",
              "      <th>std</th>\n",
              "      <td>58.745213</td>\n",
              "      <td>2742.846709</td>\n",
              "      <td>2.025651e+03</td>\n",
              "      <td>0.024717</td>\n",
              "      <td>0.018321</td>\n",
              "      <td>11.950717</td>\n",
              "      <td>19.587856</td>\n",
              "      <td>1.233255</td>\n",
              "    </tr>\n",
              "    <tr>\n",
              "      <th>min</th>\n",
              "      <td>1.000000</td>\n",
              "      <td>827291.000000</td>\n",
              "      <td>1.041006e+06</td>\n",
              "      <td>-75.634610</td>\n",
              "      <td>4.965194</td>\n",
              "      <td>2.000000</td>\n",
              "      <td>0.000000</td>\n",
              "      <td>0.000000</td>\n",
              "    </tr>\n",
              "    <tr>\n",
              "      <th>25%</th>\n",
              "      <td>51.500000</td>\n",
              "      <td>831482.000000</td>\n",
              "      <td>1.042619e+06</td>\n",
              "      <td>-75.596915</td>\n",
              "      <td>4.979871</td>\n",
              "      <td>4.000000</td>\n",
              "      <td>20.000000</td>\n",
              "      <td>0.000000</td>\n",
              "    </tr>\n",
              "    <tr>\n",
              "      <th>50%</th>\n",
              "      <td>102.000000</td>\n",
              "      <td>833656.000000</td>\n",
              "      <td>1.044331e+06</td>\n",
              "      <td>-75.577270</td>\n",
              "      <td>4.995415</td>\n",
              "      <td>7.000000</td>\n",
              "      <td>35.000000</td>\n",
              "      <td>0.100000</td>\n",
              "    </tr>\n",
              "    <tr>\n",
              "      <th>75%</th>\n",
              "      <td>152.500000</td>\n",
              "      <td>835657.500000</td>\n",
              "      <td>1.045878e+06</td>\n",
              "      <td>-75.559315</td>\n",
              "      <td>5.009371</td>\n",
              "      <td>9.000000</td>\n",
              "      <td>55.000000</td>\n",
              "      <td>1.000000</td>\n",
              "    </tr>\n",
              "    <tr>\n",
              "      <th>max</th>\n",
              "      <td>203.000000</td>\n",
              "      <td>836987.000000</td>\n",
              "      <td>1.047913e+06</td>\n",
              "      <td>-75.547210</td>\n",
              "      <td>5.027801</td>\n",
              "      <td>40.000000</td>\n",
              "      <td>80.000000</td>\n",
              "      <td>3.500000</td>\n",
              "    </tr>\n",
              "  </tbody>\n",
              "</table>\n",
              "</div>"
            ],
            "text/plain": [
              "         OBJECTID              X  ...    PERCCLAY  PERMEABILI\n",
              "count  203.000000     203.000000  ...  203.000000  203.000000\n",
              "mean   102.000000  833251.916256  ...   35.320197    0.846798\n",
              "std     58.745213    2742.846709  ...   19.587856    1.233255\n",
              "min      1.000000  827291.000000  ...    0.000000    0.000000\n",
              "25%     51.500000  831482.000000  ...   20.000000    0.000000\n",
              "50%    102.000000  833656.000000  ...   35.000000    0.100000\n",
              "75%    152.500000  835657.500000  ...   55.000000    1.000000\n",
              "max    203.000000  836987.000000  ...   80.000000    3.500000\n",
              "\n",
              "[8 rows x 8 columns]"
            ]
          },
          "metadata": {
            "tags": []
          },
          "execution_count": 4
        }
      ]
    },
    {
      "cell_type": "code",
      "metadata": {
        "colab": {
          "base_uri": "https://localhost:8080/",
          "height": 282
        },
        "id": "RJn2A0j8m_nO",
        "outputId": "484e9972-639d-4ed4-ce40-24a1d4a3becd"
      },
      "source": [
        "# Visualizamos rápidamente las caraterísticas de entrada\n",
        "barrenos.drop(['OBJECTID','X', 'Y', 'longitud', 'latitud'],1).hist()\n",
        "plt.show()"
      ],
      "execution_count": 5,
      "outputs": [
        {
          "output_type": "display_data",
          "data": {
            "image/png": "[encoded data removed]",
            "text/plain": [
              "<Figure size 432x288 with 4 Axes>"
            ]
          },
          "metadata": {
            "tags": [],
            "needs_background": "light"
          }
        }
      ]
    },
    {
      "cell_type": "code",
      "metadata": {
        "colab": {
          "base_uri": "https://localhost:8080/",
          "height": 265
        },
        "id": "IZDaI_dKngKH",
        "outputId": "07430e09-5be9-4670-d8a4-b616af817079"
      },
      "source": [
        "## Realizamos el gráfico de dispersión\n",
        "\n",
        "porc_arcillas = barrenos[\"PERCCLAY\"].values\n",
        "espesor = barrenos[\"THICKNESS\"].values\n",
        "permeabilidad = barrenos[\"PERMEABILI\"].values\n",
        "\n",
        "plt.scatter(porc_arcillas, permeabilidad)\n",
        "#plt.scatter(espesor, permeabilidad)\n",
        "plt.show()"
      ],
      "execution_count": 18,
      "outputs": [
        {
          "output_type": "display_data",
          "data": {
            "image/png": "[encoded data removed]",
            "text/plain": [
              "<Figure size 432x288 with 1 Axes>"
            ]
          },
          "metadata": {
            "tags": [],
            "needs_background": "light"
          }
        }
      ]
    },
    {
      "cell_type": "code",
      "metadata": {
        "colab": {
          "base_uri": "https://localhost:8080/"
        },
        "id": "OzHV75mioPF-",
        "outputId": "8fdea4a6-bf7d-4584-ef87-6a4c26f1e31b"
      },
      "source": [
        "permeabilidad.shape"
      ],
      "execution_count": 7,
      "outputs": [
        {
          "output_type": "execute_result",
          "data": {
            "text/plain": [
              "(203,)"
            ]
          },
          "metadata": {
            "tags": []
          },
          "execution_count": 7
        }
      ]
    },
    {
      "cell_type": "markdown",
      "metadata": {
        "id": "jAKLb0ntpWOQ"
      },
      "source": [
        "\n",
        "## Regresión lineal con Python\n",
        "\n",
        "\n",
        "Realizar una regresión lineal simple\n"
      ]
    },
    {
      "cell_type": "code",
      "metadata": {
        "colab": {
          "base_uri": "https://localhost:8080/"
        },
        "id": "18Oz2mNooxo-",
        "outputId": "763bb7da-85d2-4425-deba-d5f6416adb46"
      },
      "source": [
        "data_x = barrenos[[\"PERCCLAY\"]]\n",
        "X_train = np.array(data_x)\n",
        "Y_train = permeabilidad\n",
        "\n",
        "# Creamos el objeto de Regresión Linear\n",
        "regr = linear_model.LinearRegression()\n",
        "\n",
        "#Entrenamos nuestro modelo\n",
        "regr.fit(X_train, Y_train)\n",
        "\n",
        "# Hacemos las predicciones que en definitiva una línea (en este caso, al ser 2D)\n",
        "Y_pred = regr.predict(X_train)\n",
        "\n",
        "# Veamos los coeficienetes obtenidos, En nuestro caso, serán la Tangente\n",
        "print('Coefficients: \\n', regr.coef_)\n",
        "# Este es el valor donde corta el eje Y (en X=0)\n",
        "print('Independent term: \\n', regr.intercept_)\n",
        "# Error Cuadrado Medio\n",
        "print(\"Mean squared error: %.2f\" % mean_squared_error(Y_train, Y_pred))\n",
        "# Puntaje de Varianza. El mejor puntaje es un 1.0\n",
        "print('Variance score: %.2f' % r2_score(Y_train, Y_pred))"
      ],
      "execution_count": 9,
      "outputs": [
        {
          "output_type": "stream",
          "text": [
            "Coefficients: \n",
            " [-0.05394601]\n",
            "Independent term: \n",
            " 2.7521818303158585\n",
            "Mean squared error: 0.40\n",
            "Variance score: 0.73\n"
          ],
          "name": "stdout"
        }
      ]
    },
    {
      "cell_type": "markdown",
      "metadata": {
        "id": "uCTuZT_Yrayb"
      },
      "source": [
        "## Visualizamos la recta en el diagrama de dispersión"
      ]
    },
    {
      "cell_type": "code",
      "metadata": {
        "colab": {
          "base_uri": "https://localhost:8080/",
          "height": 267
        },
        "id": "SFOv0muQrfcE",
        "outputId": "bdff67a3-35c6-4888-96cc-a8f69f96601e"
      },
      "source": [
        "# Predicción de m, b\n",
        "\n",
        "x_train = porc_arcillas\n",
        "y_train = permeabilidad\n",
        "\n",
        "m, b = np.polyfit(x_train, y_train, deg=1)\n",
        "\n",
        "# Modelo Lineal Simple\n",
        "y_est = m * x_train + b \n",
        "y_err = x_train.std() * np.sqrt(1/len(x_train) +\n",
        "                          (x_train - x_train.mean())**2 / np.sum((x_train - x_train.mean())**2))\n",
        "\n",
        "\n",
        "fig, ax = plt.subplots()\n",
        "ax.plot(X_train, y_est, '-')\n",
        "ax.fill_between(x_train, y_est - y_err, y_est + y_err, alpha=0.2)\n",
        "#ax.plot(x_train, y_train, 'o', color='tab:red')\n",
        "#·ax.plot(x_val, y_val, 'o', color='tab:green')\n",
        "\n",
        "plt.show()\n"
      ],
      "execution_count": 10,
      "outputs": [
        {
          "output_type": "display_data",
          "data": {
            "image/png": "[encoded data removed]",
            "text/plain": [
              "<Figure size 432x288 with 1 Axes>"
            ]
          },
          "metadata": {
            "tags": [],
            "needs_background": "light"
          }
        }
      ]
    },
    {
      "cell_type": "markdown",
      "metadata": {
        "id": "UahpKgI3uPGR"
      },
      "source": [
        "## Regresión Lineal Múltiple en Python"
      ]
    },
    {
      "cell_type": "code",
      "metadata": {
        "id": "5nkGtSexs2NX"
      },
      "source": [
        "#Vamos a intentar mejorar el Modelo, con una dimensión más: \n",
        "# Para poder graficar en 3D, haremos una variable nueva que será la suma de los enlaces, comentarios e imágenes\n",
        "\n",
        "dataX2 =  pd.DataFrame()\n",
        "dataX2[\"PERCCLAY\"] =  barrenos[\"PERCCLAY\"]\n",
        "dataX2[\"THICKNESS\"] = barrenos[\"THICKNESS\"]\n",
        "\n",
        "XY_train = np.array(dataX2)\n",
        "z_train = barrenos[\"PERMEABILI\"].values"
      ],
      "execution_count": 11,
      "outputs": []
    },
    {
      "cell_type": "code",
      "metadata": {
        "colab": {
          "base_uri": "https://localhost:8080/"
        },
        "id": "pNRrhOVFvq66",
        "outputId": "d6cf1eeb-bd96-4f0a-f976-c73dc6e112f3"
      },
      "source": [
        "## Entrenamiento con SKLearn\n",
        "\n",
        "# Creamos un nuevo objeto de Regresión Lineal\n",
        "regr2 = linear_model.LinearRegression()\n",
        "\n",
        "# Entrenamos el modelo, esta vez, con 2 dimensiones\n",
        "# obtendremos 2 coeficientes, para graficar un plano\n",
        "regr2.fit(XY_train, z_train)\n",
        "\n",
        "# Hacemos la predicción con la que tendremos puntos sobre el plano hallado\n",
        "z_pred = regr2.predict(XY_train)\n",
        "\n",
        "# Los coeficientes\n",
        "print('Coefficients: \\n', regr2.coef_)\n",
        "# Error cuadrático medio\n",
        "print(\"Mean squared error: %.2f\" % mean_squared_error(z_train, z_pred))\n",
        "# Evaluamos el puntaje de varianza (siendo 1.0 el mejor posible)\n",
        "print('Variance score: %.2f' % r2_score(z_train, z_pred))"
      ],
      "execution_count": 12,
      "outputs": [
        {
          "output_type": "stream",
          "text": [
            "Coefficients: \n",
            " [-0.03229392  0.05623289]\n",
            "Mean squared error: 0.13\n",
            "Variance score: 0.91\n"
          ],
          "name": "stdout"
        }
      ]
    },
    {
      "cell_type": "code",
      "metadata": {
        "colab": {
          "base_uri": "https://localhost:8080/",
          "height": 338
        },
        "id": "-FPZP-85wwrW",
        "outputId": "7fc0f332-6d71-4afa-f630-5238cf3d45c7"
      },
      "source": [
        "## Visualizar en 3D \n",
        "\n",
        "fig = plt.figure()\n",
        "ax = Axes3D(fig)\n",
        "\n",
        "# Creamos una malla, sobre la cual graficaremos el plano\n",
        "xx, yy = np.meshgrid(np.linspace(0, 100, num=10), np.linspace(0, 50, num=10))\n",
        "\n",
        "# calculamos los valores del plano para los puntos x e y\n",
        "nuevoX = (regr2.coef_[0] * xx)\n",
        "nuevoY = (regr2.coef_[1] * yy) \n",
        "\n",
        "# calculamos los correspondientes valores para z. Debemos sumar el punto de intercepción\n",
        "z = (nuevoX + nuevoY + regr2.intercept_)\n",
        " \n",
        "# Graficamos el plano\n",
        "ax.plot_surface(xx, yy, z, alpha=0.4, cmap='hot')\n",
        " \n",
        "# Graficamos en azul los puntos en 3D con datos de entrenamiento\n",
        "ax.scatter(XY_train[:, 0], XY_train[:, 1], z_train, c='blue')\n",
        " \n",
        "# Graficamos en rojo, los puntos inferidos\n",
        "ax.scatter(XY_train[:, 0], XY_train[:, 1], z_pred, c='red')\n",
        " \n",
        "# con esto situamos la \"camara\" con la que visualizamos\n",
        "ax.view_init(elev=10, azim=25)\n",
        "        \n",
        "ax.set_xlabel('% arcillas')\n",
        "ax.set_ylabel('Espesor en m')\n",
        "ax.set_zlabel('Permeabilidad m/dia')\n",
        "ax.set_title('Regresión Lineal con Múltiples Variables') "
      ],
      "execution_count": 15,
      "outputs": [
        {
          "output_type": "execute_result",
          "data": {
            "text/plain": [
              "Text(0.5, 0.92, 'Regresión Lineal con Múltiples Variables')"
            ]
          },
          "metadata": {
            "tags": []
          },
          "execution_count": 15
        },
        {
          "output_type": "display_data",
          "data": {
            "image/png": "[encoded data removed]",
            "text/plain": [
              "<Figure size 432x288 with 1 Axes>"
            ]
          },
          "metadata": {
            "tags": [],
            "needs_background": "light"
          }
        }
      ]
    },
    {
      "cell_type": "code",
      "metadata": {
        "id": "HMBk-LQl3nX-"
      },
      "source": [
        ""
      ],
      "execution_count": null,
      "outputs": []
    }
  ]
}