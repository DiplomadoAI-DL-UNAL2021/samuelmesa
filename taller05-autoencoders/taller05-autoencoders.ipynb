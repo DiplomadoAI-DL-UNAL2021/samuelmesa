{
 "metadata": {
  "language_info": {
   "codemirror_mode": {
    "name": "ipython",
    "version": 3
   },
   "file_extension": ".py",
   "mimetype": "text/x-python",
   "name": "python",
   "nbconvert_exporter": "python",
   "pygments_lexer": "ipython3",
   "version": 3
  },
  "orig_nbformat": 2
 },
 "nbformat": 4,
 "nbformat_minor": 2,
 "cells": [
  {
   "source": [
    "# Taller 5  Autoencoders\n",
    "## Autor: Samuel Mesa\n",
    "## Fecha: 2 de mayo de 2021\n",
    "\n",
    "## Objetivo: Cree un autoencoder para el conjunto de datos Fashion MNIST, usando una red convolucional. Los datos puede obtenerlos directamente en keras como se hizo el conjunto MNIST de digitos. Revise el enlace. Entregable: Cuaderno de Jupyterlab con la implementación."
   ],
   "cell_type": "markdown",
   "metadata": {}
  }
 ]
}